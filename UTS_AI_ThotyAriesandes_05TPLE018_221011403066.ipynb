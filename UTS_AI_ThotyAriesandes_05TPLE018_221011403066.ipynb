{
  "cells": [
    {
      "cell_type": "markdown",
      "metadata": {
        "id": "view-in-github",
        "colab_type": "text"
      },
      "source": [
        "<a href=\"https://colab.research.google.com/github/Totskyyy/UTS-AI-Thoty-Ariesandes-221011403066-05tple018/blob/main/UTS_AI_ThotyAriesandes_05TPLE018_221011403066.ipynb\" target=\"_parent\"><img src=\"https://colab.research.google.com/assets/colab-badge.svg\" alt=\"Open In Colab\"/></a>"
      ]
    },
    {
      "cell_type": "markdown",
      "metadata": {
        "id": "QiGcp6j9_QSz"
      },
      "source": [
        "## Soal UTS"
      ]
    },
    {
      "cell_type": "code",
      "execution_count": null,
      "metadata": {
        "id": "RWdhQPRt8yrd"
      },
      "outputs": [],
      "source": [
        "\n",
        "# Data\n",
        "\n",
        "company_detail_list = [\n",
        "      {\n",
        "          'name': 'Company 1',\n",
        "          'domain': 'Retail',\n",
        "          'country': 'United States'\n",
        "      },\n",
        "      {\n",
        "          'name': 'Company 2',\n",
        "          'domain': 'Technology',\n",
        "          'country': 'United Kingdom'\n",
        "      },\n",
        "      {\n",
        "          'name': 'Company 3',\n",
        "          'domain': 'Healthcare',\n",
        "          'country': 'United States'\n",
        "      }\n",
        "  ]\n",
        "\n",
        "employee_detail_list = [\n",
        "     {\n",
        "          'name': 'EMP-0001',\n",
        "          'first_name': 'John',\n",
        "          'last_name': 'Doe',\n",
        "          'full_name': 'John Doe',\n",
        "          'company': 'Company 1',\n",
        "          'nationality': 'Australia'\n",
        "      },\n",
        "      {\n",
        "          'name': 'EMP-0002',\n",
        "          'first_name': 'Tom',\n",
        "          'last_name': 'Smith',\n",
        "          'full_name': 'Tom Smith',\n",
        "          'company': 'Company 2',\n",
        "          'nationality': 'United States'\n",
        "      },\n",
        "      {\n",
        "          'name': 'EMP-0003',\n",
        "          'first_name': 'Andrew',\n",
        "          'last_name': 'Sebastian',\n",
        "          'full_name': 'Andrew Sebastian',\n",
        "          'company': 'Company 3',\n",
        "          'nationality': 'United States'\n",
        "      },\n",
        "      {\n",
        "          'name': 'EMP-0005',\n",
        "          'first_name': 'Ying Han',\n",
        "          'last_name': 'Tan',\n",
        "          'full_name': 'Ying Han Tan',\n",
        "          'company': 'Company 1',\n",
        "          'nationality': 'Australia'\n",
        "      },\n",
        "      {\n",
        "          'name': 'EMP-0015',\n",
        "          'first_name': 'Kenneth',\n",
        "          'last_name': 'Ng',\n",
        "          'full_name': 'Kenneth Ng',\n",
        "          'company': 'Company 3',\n",
        "          'nationality': 'United States'\n",
        "      },\n",
        "      {\n",
        "          'name': 'EMP-0018',\n",
        "          'first_name': 'Rubby',\n",
        "          'last_name': 'Lee',\n",
        "          'full_name': 'Rubby Lee',\n",
        "          'company': 'Company 2',\n",
        "          'nationality': 'Hong Kong'\n",
        "      },\n",
        "     {\n",
        "          'name': 'EMP-0017',\n",
        "          'first_name': 'Robert',\n",
        "          'last_name': 'White',\n",
        "          'full_name': 'Robert White',\n",
        "          'company': 'Company 1',\n",
        "          'nationality': 'United Kingdom'\n",
        "      }\n",
        "  ]\n",
        "\n"
      ]
    },
    {
      "cell_type": "markdown",
      "metadata": {
        "id": "hxAkwucFjatO"
      },
      "source": [
        "The next few cells will show some examples on how to interact with our functions. Note that some of these function calls could be useful for you in completing the tasks below."
      ]
    },
    {
      "cell_type": "markdown",
      "metadata": {
        "id": "097eOYQ-U5V2",
        "jp-MarkdownHeadingCollapsed": true
      },
      "source": [
        "## Task 1\n",
        "\n",
        "Please get the list of all Companies and sort by **Company Name** in reverse order.\n",
        "\n",
        "Expected result:\n",
        "\n",
        "\n",
        "```json\n",
        "[{\n",
        "    \"name\": \"Company 3\"\n",
        "}, {\n",
        "    \"name\": \"Company 2\"\n",
        "}, {\n",
        "    \"name\": \"Company 1\"\n",
        "}]\n",
        "```\n",
        "\n"
      ]
    },
    {
      "cell_type": "code",
      "source": [
        "sorted_companies = sorted(\n",
        "    [{'name': company['name']} for company in company_detail_list],\n",
        "    key=lambda x: x['name'],\n",
        "    reverse=True\n",
        ")"
      ],
      "metadata": {
        "id": "VHMlAMbEON7f"
      },
      "execution_count": null,
      "outputs": []
    },
    {
      "cell_type": "code",
      "source": [
        "print(sorted_companies)"
      ],
      "metadata": {
        "colab": {
          "base_uri": "https://localhost:8080/"
        },
        "id": "T08aVCqSdWeJ",
        "outputId": "c22a4443-9fcb-406c-b4ff-bdb3cb742ea5"
      },
      "execution_count": null,
      "outputs": [
        {
          "output_type": "stream",
          "name": "stdout",
          "text": [
            "[{'name': 'Company 3'}, {'name': 'Company 2'}, {'name': 'Company 1'}]\n"
          ]
        }
      ]
    },
    {
      "cell_type": "code",
      "source": [
        "for company in sorted_companies:\n",
        "  print(company)"
      ],
      "metadata": {
        "colab": {
          "base_uri": "https://localhost:8080/"
        },
        "id": "NEOO2wjoYU5U",
        "outputId": "ec9a1418-f963-4a87-f3d5-b57ab2df9eb2"
      },
      "execution_count": null,
      "outputs": [
        {
          "output_type": "stream",
          "name": "stdout",
          "text": [
            "{'name': 'Company 3'}\n",
            "{'name': 'Company 2'}\n",
            "{'name': 'Company 1'}\n"
          ]
        }
      ]
    },
    {
      "cell_type": "markdown",
      "metadata": {
        "id": "sFbEZt5JoxMJ"
      },
      "source": [
        "## Soal 2\n",
        "\n",
        "Please print all Domain value in every company (use print statement).\n",
        "\n",
        "Expected return:\n",
        "\n",
        "```\n",
        "    Company 1: Retail (United States)\n",
        "    Company 2: Technology (United Kingdom)\n",
        "    Company 3: Healthcare (United States)\n",
        "```\n",
        "\n",
        "\n"
      ]
    },
    {
      "cell_type": "code",
      "source": [
        "for company in company_detail_list:\n",
        "  print(f\"{company['name']}: {company['domain']} ({company['country']})\")"
      ],
      "metadata": {
        "colab": {
          "base_uri": "https://localhost:8080/"
        },
        "id": "5cnfAnF5bTTj",
        "outputId": "ab7aa349-a3ce-4444-edc9-1b9e04908d6e"
      },
      "execution_count": null,
      "outputs": [
        {
          "output_type": "stream",
          "name": "stdout",
          "text": [
            "Company 1: Retail (United States)\n",
            "Company 2: Technology (United Kingdom)\n",
            "Company 3: Healthcare (United States)\n"
          ]
        }
      ]
    },
    {
      "cell_type": "markdown",
      "metadata": {
        "id": "d617U0r8wvOd"
      },
      "source": [
        "## Task 3\n",
        "\n",
        "List all Employees work By company domain.\n",
        "\n",
        "Expected return:\n",
        "\n",
        "```json\n",
        "{\n",
        "    \"Retail\": [\n",
        "         \"John Doe\",\n",
        "         \"Robert White\",\n",
        "         \"Ying Han Tan\"\n",
        "     ],\n",
        "    \"Technology\":[\n",
        "          \"Tom Smith\",\n",
        "          \"Rubby Lee\",\n",
        "     ],\n",
        "    \"Healthcare\": [\n",
        "         \"Kenneth Ng\",\n",
        "         \"Andrew Sebastian\"\n",
        "     ],\n",
        "}\n",
        "```\n",
        "\n"
      ]
    },
    {
      "cell_type": "code",
      "source": [
        "employees_by_domain={}"
      ],
      "metadata": {
        "id": "FkVp6TMYKwAx"
      },
      "execution_count": null,
      "outputs": []
    },
    {
      "cell_type": "code",
      "source": [
        "for company in company_detail_list:\n",
        "  domain = company['domain']\n",
        "  employees_by_domain[domain] = []\n",
        "\n",
        "  for employee in employee_detail_list:\n",
        "    if employee['company'] == company['name']:\n",
        "      employees_by_domain[domain].append(employee['full_name'])"
      ],
      "metadata": {
        "id": "DPIhop83birp"
      },
      "execution_count": null,
      "outputs": []
    },
    {
      "cell_type": "code",
      "source": [
        "print(employees_by_domain)"
      ],
      "metadata": {
        "colab": {
          "base_uri": "https://localhost:8080/"
        },
        "id": "0Rj7PsGkK1k3",
        "outputId": "55d973f4-561f-426a-b977-08a3e6acdaab"
      },
      "execution_count": null,
      "outputs": [
        {
          "output_type": "stream",
          "name": "stdout",
          "text": [
            "{'Retail': ['John Doe', 'Ying Han Tan', 'Robert White'], 'Technology': ['Tom Smith', 'Rubby Lee'], 'Healthcare': ['Andrew Sebastian', 'Kenneth Ng']}\n"
          ]
        }
      ]
    },
    {
      "cell_type": "code",
      "source": [
        "for domain, employees in employees_by_domain.items():\n",
        "  print(f\"{domain}:\")\n",
        "  for employee in employees:\n",
        "    print(f\"    {employee}\")\n",
        "  print()"
      ],
      "metadata": {
        "id": "KloqKkhxc9zP",
        "colab": {
          "base_uri": "https://localhost:8080/"
        },
        "outputId": "034300ae-78ba-448b-abca-0276f1fd5cc2"
      },
      "execution_count": null,
      "outputs": [
        {
          "output_type": "stream",
          "name": "stdout",
          "text": [
            "Retail:\n",
            "    John Doe\n",
            "    Ying Han Tan\n",
            "    Robert White\n",
            "\n",
            "Technology:\n",
            "    Tom Smith\n",
            "    Rubby Lee\n",
            "\n",
            "Healthcare:\n",
            "    Andrew Sebastian\n",
            "    Kenneth Ng\n",
            "\n"
          ]
        }
      ]
    },
    {
      "cell_type": "markdown",
      "metadata": {
        "id": "-a7IODNT3w0F"
      },
      "source": [
        "## Task 4\n",
        "\n",
        "Create a function that return employees with it's company country.\n",
        "\n",
        "Expected return:\n",
        "\n",
        "\n",
        "```json\n",
        "[{\n",
        "    \"full_name\": \"John Doe\",\n",
        "    \"company\": \"Company 1\",\n",
        "    \"country\": \"United States\"\n",
        "}, {\n",
        "    \"full_name\": \"Tom Smith\",\n",
        "    \"company\": \"Company 2\",\n",
        "    \"country\": \"United Kingdom\"\n",
        "}, {\n",
        "    \"full_name\": \"Andrew Sebastian\",\n",
        "    \"company\": \"Company 3\",\n",
        "    \"country\": \"United Kingdom\"\n",
        "},  {\n",
        "    \"full_name\": \"Ying Han Tan\",\n",
        "    \"company\": \"Company 1\",\n",
        "    \"country\": \"United States\"\n",
        "},  {\n",
        "    \"full_name\": \"Kenneth Ng\",\n",
        "    \"company\": \"Company 3\",\n",
        "    \"country\": \"United States\"\n",
        "},  {\n",
        "    \"full_name\": \"Rubby Lee\",\n",
        "    \"company\": \"Company 2\",\n",
        "    \"country\": \"United Kingdom\"\n",
        "},   {\n",
        "    \"full_name\": \"Robert White\",\n",
        "    \"company\": \"Company 1\",\n",
        "    \"country\": \"United States\"\n",
        "},\n",
        "    \n",
        "]\n",
        "```\n",
        "\n"
      ]
    },
    {
      "cell_type": "code",
      "source": [
        "def get_employees_with_company_country():\n",
        "\n",
        "    result = []\n",
        "\n",
        "    for employee in employee_detail_list:\n",
        "        for company in company_detail_list:\n",
        "            if employee['company'] == company['name']:\n",
        "                result.append({\n",
        "                    'full_name': employee['full_name'],\n",
        "                    'company': company['name'],\n",
        "                    'country': company['country']\n",
        "                })\n",
        "\n",
        "    return result"
      ],
      "metadata": {
        "id": "zApptD7ocmZY"
      },
      "execution_count": null,
      "outputs": []
    },
    {
      "cell_type": "code",
      "source": [
        "employees_with_country = get_employees_with_company_country()\n",
        "print(employees_with_country)"
      ],
      "metadata": {
        "colab": {
          "base_uri": "https://localhost:8080/"
        },
        "id": "eGaMI0wILKYU",
        "outputId": "2c462584-4289-4f78-8fff-fd35cb9c75eb"
      },
      "execution_count": null,
      "outputs": [
        {
          "output_type": "stream",
          "name": "stdout",
          "text": [
            "[{'full_name': 'John Doe', 'company': 'Company 1', 'country': 'United States'}, {'full_name': 'Tom Smith', 'company': 'Company 2', 'country': 'United Kingdom'}, {'full_name': 'Andrew Sebastian', 'company': 'Company 3', 'country': 'United States'}, {'full_name': 'Ying Han Tan', 'company': 'Company 1', 'country': 'United States'}, {'full_name': 'Kenneth Ng', 'company': 'Company 3', 'country': 'United States'}, {'full_name': 'Rubby Lee', 'company': 'Company 2', 'country': 'United Kingdom'}, {'full_name': 'Robert White', 'company': 'Company 1', 'country': 'United States'}]\n"
          ]
        }
      ]
    },
    {
      "cell_type": "code",
      "source": [
        "for employee in employees_with_country:\n",
        "    print(f\"Full Name: {employee['full_name']}\")\n",
        "    print(f\"Company: {employee['company']}\")\n",
        "    print(f\"Country: {employee['country']}\")\n",
        "    print()"
      ],
      "metadata": {
        "id": "oLmvPUl9c2Rf",
        "colab": {
          "base_uri": "https://localhost:8080/"
        },
        "outputId": "590300fc-4dca-4253-98f4-81bbdf21cb89"
      },
      "execution_count": null,
      "outputs": [
        {
          "output_type": "stream",
          "name": "stdout",
          "text": [
            "Full Name: John Doe\n",
            "Company: Company 1\n",
            "Country: United States\n",
            "\n",
            "Full Name: Tom Smith\n",
            "Company: Company 2\n",
            "Country: United Kingdom\n",
            "\n",
            "Full Name: Andrew Sebastian\n",
            "Company: Company 3\n",
            "Country: United States\n",
            "\n",
            "Full Name: Ying Han Tan\n",
            "Company: Company 1\n",
            "Country: United States\n",
            "\n",
            "Full Name: Kenneth Ng\n",
            "Company: Company 3\n",
            "Country: United States\n",
            "\n",
            "Full Name: Rubby Lee\n",
            "Company: Company 2\n",
            "Country: United Kingdom\n",
            "\n",
            "Full Name: Robert White\n",
            "Company: Company 1\n",
            "Country: United States\n",
            "\n"
          ]
        }
      ]
    },
    {
      "cell_type": "markdown",
      "metadata": {
        "id": "TXhXCiOrFcev"
      },
      "source": [
        "\n",
        "## Task 5\n",
        "\n",
        "Create a function that return companies with a number of employees nationality that are working in the company.\n",
        "\n",
        "Expected return:\n",
        "\n",
        "\n",
        "```json\n",
        "[{\n",
        "    \"company\": \"Company 1\",\n",
        "    \"employee_nationality\": {\n",
        "        \"Australia\": 2,\n",
        "        \"Hong Kong\": 1\n",
        "    }\n",
        "}, {\n",
        "    \"company\": \"Company 2\",\n",
        "    \"employee_nationality\": {\n",
        "        \"Hong Kong\": 1,\n",
        "        \"United States\": 1\n",
        "    }\n",
        "}, {\n",
        "    \"company\": \"Company 3\",\n",
        "    \"employee_nationality\": {\n",
        "        \"United States\": 2\n",
        "    }\n",
        "}]\n",
        "```\n",
        "\n"
      ]
    },
    {
      "cell_type": "code",
      "source": [
        "def get_companies_with_employee_nationality():\n",
        "  company_nationality = []\n",
        "\n",
        "  for company in company_detail_list:\n",
        "    nationality_count = {}\n",
        "\n",
        "    for employee in employee_detail_list:\n",
        "      if employee['company'] == company['name']:\n",
        "        nationality = employee['nationality']\n",
        "        if nationality in nationality_count:\n",
        "           nationality_count[nationality] += 1\n",
        "        else:\n",
        "           nationality_count[nationality] = 1\n",
        "\n",
        "    company_nationality.append({\n",
        "      'company': company['name'],\n",
        "      'employee_nationality': nationality_count\n",
        "    })\n",
        "\n",
        "  return company_nationality\n",
        "\n",
        "companies_with_nationality = get_companies_with_employee_nationality()\n",
        "\n",
        "for company in companies_with_nationality:\n",
        "  print(company)"
      ],
      "metadata": {
        "id": "hahJAqHjd49p",
        "colab": {
          "base_uri": "https://localhost:8080/"
        },
        "outputId": "dbcae0a5-feb0-411c-ac0d-666a1b616a82"
      },
      "execution_count": null,
      "outputs": [
        {
          "output_type": "stream",
          "name": "stdout",
          "text": [
            "{'company': 'Company 1', 'employee_nationality': {'Australia': 2, 'United Kingdom': 1}}\n",
            "{'company': 'Company 2', 'employee_nationality': {'United States': 1, 'Hong Kong': 1}}\n",
            "{'company': 'Company 3', 'employee_nationality': {'United States': 2}}\n"
          ]
        }
      ]
    }
  ],
  "metadata": {
    "colab": {
      "provenance": [],
      "include_colab_link": true
    },
    "kernelspec": {
      "display_name": "Python 3 (ipykernel)",
      "language": "python",
      "name": "python3"
    },
    "language_info": {
      "codemirror_mode": {
        "name": "ipython",
        "version": 3
      },
      "file_extension": ".py",
      "mimetype": "text/x-python",
      "name": "python",
      "nbconvert_exporter": "python",
      "pygments_lexer": "ipython3",
      "version": "3.9.13"
    }
  },
  "nbformat": 4,
  "nbformat_minor": 0
}