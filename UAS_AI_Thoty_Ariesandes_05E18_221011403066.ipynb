{
  "nbformat": 4,
  "nbformat_minor": 0,
  "metadata": {
    "colab": {
      "provenance": [],
      "authorship_tag": "ABX9TyMMqgwqMhmIGpxqnZeQu1dc",
      "include_colab_link": true
    },
    "kernelspec": {
      "name": "python3",
      "display_name": "Python 3"
    },
    "language_info": {
      "name": "python"
    }
  },
  "cells": [
    {
      "cell_type": "markdown",
      "metadata": {
        "id": "view-in-github",
        "colab_type": "text"
      },
      "source": [
        "<a href=\"https://colab.research.google.com/github/Totskyyy/UTS---AllWork-AI-Thoty-Ariesandes-221011403066-05tple018/blob/main/UAS_AI_Thoty_Ariesandes_05E18_221011403066.ipynb\" target=\"_parent\"><img src=\"https://colab.research.google.com/assets/colab-badge.svg\" alt=\"Open In Colab\"/></a>"
      ]
    },
    {
      "cell_type": "code",
      "source": [
        "!pip install scikit-fuzzy"
      ],
      "metadata": {
        "colab": {
          "base_uri": "https://localhost:8080/"
        },
        "id": "sGC3YJ65EzOu",
        "outputId": "be9230db-ac89-419e-b700-be10ecad9937"
      },
      "execution_count": 2,
      "outputs": [
        {
          "output_type": "stream",
          "name": "stdout",
          "text": [
            "Collecting scikit-fuzzy\n",
            "  Downloading scikit_fuzzy-0.5.0-py2.py3-none-any.whl.metadata (2.6 kB)\n",
            "Downloading scikit_fuzzy-0.5.0-py2.py3-none-any.whl (920 kB)\n",
            "\u001b[?25l   \u001b[90m━━━━━━━━━━━━━━━━━━━━━━━━━━━━━━━━━━━━━━━━\u001b[0m \u001b[32m0.0/920.8 kB\u001b[0m \u001b[31m?\u001b[0m eta \u001b[36m-:--:--\u001b[0m\r\u001b[2K   \u001b[91m━━━\u001b[0m\u001b[90m╺\u001b[0m\u001b[90m━━━━━━━━━━━━━━━━━━━━━━━━━━━━━━━━━━━━\u001b[0m \u001b[32m71.7/920.8 kB\u001b[0m \u001b[31m2.1 MB/s\u001b[0m eta \u001b[36m0:00:01\u001b[0m\r\u001b[2K   \u001b[91m━━━━━━━━━━━━━━\u001b[0m\u001b[91m╸\u001b[0m\u001b[90m━━━━━━━━━━━━━━━━━━━━━━━━━\u001b[0m \u001b[32m337.9/920.8 kB\u001b[0m \u001b[31m4.9 MB/s\u001b[0m eta \u001b[36m0:00:01\u001b[0m\r\u001b[2K   \u001b[91m━━━━━━━━━━━━━━━━━━━━━━━━━━━━━━━━━━━━━━━\u001b[0m\u001b[91m╸\u001b[0m \u001b[32m911.4/920.8 kB\u001b[0m \u001b[31m9.7 MB/s\u001b[0m eta \u001b[36m0:00:01\u001b[0m\r\u001b[2K   \u001b[90m━━━━━━━━━━━━━━━━━━━━━━━━━━━━━━━━━━━━━━━━\u001b[0m \u001b[32m920.8/920.8 kB\u001b[0m \u001b[31m8.5 MB/s\u001b[0m eta \u001b[36m0:00:00\u001b[0m\n",
            "\u001b[?25hInstalling collected packages: scikit-fuzzy\n",
            "Successfully installed scikit-fuzzy-0.5.0\n"
          ]
        }
      ]
    },
    {
      "cell_type": "code",
      "execution_count": 3,
      "metadata": {
        "id": "LZUZTmbQvvcq"
      },
      "outputs": [],
      "source": [
        "import numpy as np\n",
        "import skfuzzy as fuzz\n",
        "from skfuzzy import control as ctrl"
      ]
    },
    {
      "cell_type": "code",
      "source": [
        "# 1. Definisikan variabel fuzzy\n",
        "# Input: Jumlah Tugas, Lama Waktu Belajar, Lama Waktu Tidur\n",
        "# Output: Tingkat Stres\n",
        "tugas = ctrl.Antecedent(np.arange(0, 11, 1), 'tugas')  # Jumlah Tugas (0-10)\n",
        "waktuBelajar = ctrl.Antecedent(np.arange(0, 11, 1), 'waktuBelajar')  # Lama Waktu Belajar (0-10)\n",
        "waktuTidur = ctrl.Antecedent(np.arange(0, 11, 1), 'waktuTidur')  # Lama Waktu Tidur (0-10)\n",
        "stres = ctrl.Consequent(np.arange(0, 101, 1), 'stres')  # Tingkat Stres (0-100)\n"
      ],
      "metadata": {
        "id": "4gSHvHsGFlPw"
      },
      "execution_count": 4,
      "outputs": []
    },
    {
      "cell_type": "code",
      "source": [
        "# 2. Tentukan himpunan fuzzy untuk masing-masing variabel\n",
        "# Jumlah Tugas\n",
        "tugas['sedikit'] = fuzz.trimf(tugas.universe, [0, 0, 5])\n",
        "tugas['sedang'] = fuzz.trimf(tugas.universe, [3, 5, 7])\n",
        "tugas['banyak'] = fuzz.trimf(tugas.universe, [5, 10, 10])\n",
        "\n",
        "# Lama Waktu Belajar\n",
        "waktuBelajar['singkat'] = fuzz.trimf(waktuBelajar.universe, [0, 0, 5])\n",
        "waktuBelajar['normal'] = fuzz.trimf(waktuBelajar.universe, [3, 5, 7])\n",
        "waktuBelajar['lama'] = fuzz.trimf(waktuBelajar.universe, [5, 10, 10])\n",
        "\n",
        "# Lama Waktu Tidur\n",
        "waktuTidur['singkat'] = fuzz.trimf(waktuTidur.universe, [0, 0, 5])\n",
        "waktuTidur['cukup'] = fuzz.trimf(waktuTidur.universe, [3, 5, 7])\n",
        "waktuTidur['panjang'] = fuzz.trimf(waktuTidur.universe, [5, 10, 10])\n",
        "\n",
        "# Tingkat Stres\n",
        "stres['rendah'] = fuzz.trimf(stres.universe, [0, 0, 50])\n",
        "stres['sedang'] = fuzz.trimf(stres.universe, [25, 50, 75])\n",
        "stres['tinggi'] = fuzz.trimf(stres.universe, [50, 100, 100])"
      ],
      "metadata": {
        "id": "tac8YEsFO_ik"
      },
      "execution_count": 5,
      "outputs": []
    },
    {
      "cell_type": "code",
      "source": [
        "# 3. Menentukan aturan fuzzy\n",
        "aturan1 = ctrl.Rule(tugas['banyak'] & waktuTidur['singkat'], stres['tinggi'])\n",
        "aturan2 = ctrl.Rule(tugas['sedikit'] & waktuBelajar['normal'], stres['rendah'])\n",
        "aturan3 = ctrl.Rule(waktuTidur['cukup'] & waktuBelajar['lama'], stres['sedang'])\n",
        "aturan4 = ctrl.Rule(tugas['sedang'] & waktuTidur['cukup'], stres['sedang'])\n",
        "aturan5 = ctrl.Rule(tugas['banyak'] & waktuBelajar['lama'], stres['tinggi'])\n"
      ],
      "metadata": {
        "id": "pPrC01mBPIfj"
      },
      "execution_count": 6,
      "outputs": []
    },
    {
      "cell_type": "code",
      "source": [
        "# 4. Bangun sistem kontrol fuzzy\n",
        "sistem_stres = ctrl.ControlSystem([aturan1, aturan2, aturan3, aturan4, aturan5])\n",
        "simulasi_stres = ctrl.ControlSystemSimulation(sistem_stres)\n",
        "\n",
        "data_mahasiswa = [\n",
        "    {\n",
        "     'nama': 'Zein Albi Gunawan',\n",
        "     'kelas': '05TPLE018',\n",
        "     'NIM': '221011403182',\n",
        "     'tugas': 8, 'waktuBelajar': 4, 'waktuTidur': 3\n",
        "     },\n",
        "    {\n",
        "     'nama': 'Yoga Febi Atmaja',\n",
        "     'kelas': '05TPLE018',\n",
        "     'NIM': '221011403036',\n",
        "     'tugas': 6, 'waktuBelajar': 7, 'waktuTidur': 3\n",
        "     },\n",
        "    {\n",
        "     'nama': 'Najwan Hidayatullah',\n",
        "     'kelas': '05TPLE018',\n",
        "     'NIM': '221011402857',\n",
        "     'tugas': 3, 'waktuBelajar': 5, 'waktuTidur': 6\n",
        "     },\n",
        "    {\n",
        "     'nama': 'Thoty Ariesandes',\n",
        "     'kelas': '05TPLE018',\n",
        "     'NIM': '221011403066',\n",
        "     'tugas': 9, 'waktuBelajar': 3, 'waktuTidur': 2\n",
        "     },\n",
        "    {\n",
        "     'nama': 'Ahmad Fauzi',\n",
        "     'kelas': '05TPLE018',\n",
        "     'NIM': '221011403240 ',\n",
        "     'tugas': 5, 'waktuBelajar': 5, 'waktuTidur': 5\n",
        "     },\n",
        "]\n",
        "\n",
        "\n",
        "# Proses setiap data mahasiswa\n",
        "for data in data_mahasiswa:\n",
        "    simulasi_stres.input['tugas'] = data['tugas']\n",
        "    simulasi_stres.input['waktuBelajar'] = data['waktuBelajar']\n",
        "    simulasi_stres.input['waktuTidur'] = data['waktuTidur']\n",
        "\n",
        "# Menghitung hasil menggunakan sistem fuzzy\n",
        "    try:\n",
        "        simulasi_stres.compute()\n",
        "        print(f\"Nama: {data['nama']}\")\n",
        "        print(f\"Kelas: {data['kelas']}\")\n",
        "        print(f\"Nim: {data['NIM']}\")\n",
        "        print(f\"Tugas: {data['tugas']}, Waktu Belajar: {data['waktuBelajar']}, Waktu Tidur: {data['waktuTidur']}\")\n",
        "        print(f\"Prediksi Tingkat Stres: {simulasi_stres.output['stres']:.2f}\")\n",
        "        print(\"-\" * 50)\n",
        "    except KeyError as e:\n",
        "        print(f\"Terjadi error saat memproses {data['nama']}: {e}\")\n",
        "        print(\"-\" * 50)\n",
        "\n",
        "\n"
      ],
      "metadata": {
        "colab": {
          "base_uri": "https://localhost:8080/"
        },
        "id": "cJJChMcMY29X",
        "outputId": "12b557d2-677c-4b88-f1df-883257f04272"
      },
      "execution_count": 12,
      "outputs": [
        {
          "output_type": "stream",
          "name": "stdout",
          "text": [
            "Nama: Zein Albi Gunawan\n",
            "Kelas: 05TPLE018\n",
            "Nim: 221011403182\n",
            "Tugas: 8, Waktu Belajar: 4, Waktu Tidur: 3\n",
            "Prediksi Tingkat Stres: 79.58\n",
            "--------------------------------------------------\n",
            "Nama: Yoga Febi Atmaja\n",
            "Kelas: 05TPLE018\n",
            "Nim: 221011403036\n",
            "Tugas: 6, Waktu Belajar: 7, Waktu Tidur: 3\n",
            "Prediksi Tingkat Stres: 77.41\n",
            "--------------------------------------------------\n",
            "Nama: Najwan Hidayatullah\n",
            "Kelas: 05TPLE018\n",
            "Nim: 221011402857\n",
            "Tugas: 3, Waktu Belajar: 5, Waktu Tidur: 6\n",
            "Prediksi Tingkat Stres: 20.42\n",
            "--------------------------------------------------\n",
            "Nama: Thoty Ariesandes\n",
            "Kelas: 05TPLE018\n",
            "Nim: 221011403066\n",
            "Tugas: 9, Waktu Belajar: 3, Waktu Tidur: 2\n",
            "Prediksi Tingkat Stres: 81.43\n",
            "--------------------------------------------------\n",
            "Nama: Ahmad Fauzi\n",
            "Kelas: 05TPLE018\n",
            "Nim: 221011403240 \n",
            "Tugas: 5, Waktu Belajar: 5, Waktu Tidur: 5\n",
            "Prediksi Tingkat Stres: 50.00\n",
            "--------------------------------------------------\n"
          ]
        }
      ]
    }
  ]
}