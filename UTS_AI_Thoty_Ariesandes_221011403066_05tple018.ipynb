{
  "cells": [
    {
      "cell_type": "markdown",
      "metadata": {
        "id": "view-in-github",
        "colab_type": "text"
      },
      "source": [
        "<a href=\"https://colab.research.google.com/github/Totskyyy/UTS-AI-Thoty-Ariesandes-221011403066-05tple018/blob/main/UTS_AI_Thoty_Ariesandes_221011403066_05tple018.ipynb\" target=\"_parent\"><img src=\"https://colab.research.google.com/assets/colab-badge.svg\" alt=\"Open In Colab\"/></a>"
      ]
    },
    {
      "cell_type": "markdown",
      "id": "6780e9fd-07f1-4b1e-ba45-e24b90bad7b5",
      "metadata": {
        "id": "6780e9fd-07f1-4b1e-ba45-e24b90bad7b5"
      },
      "source": [
        "### Soal Latihan\n"
      ]
    },
    {
      "cell_type": "code",
      "execution_count": null,
      "id": "9a2ae003-7cd3-4359-9c2c-598d02767afa",
      "metadata": {
        "id": "9a2ae003-7cd3-4359-9c2c-598d02767afa"
      },
      "outputs": [],
      "source": [
        "# expected result\n",
        "# based on level\n",
        "# bonus = salary * bonus/100\n",
        "\n",
        "# employee_bonus = {\n",
        "#     'Rudi': 750000,\n",
        "#     'Rita': 50000\n",
        "#     ...\n",
        "# }"
      ]
    },
    {
      "cell_type": "code",
      "execution_count": 1,
      "id": "11ce616d-f96c-483b-a7c8-ed2de4061679",
      "metadata": {
        "id": "11ce616d-f96c-483b-a7c8-ed2de4061679"
      },
      "outputs": [],
      "source": [
        "level = {\n",
        "    'intern': {\n",
        "        'bonus': 5\n",
        "    },\n",
        "    'staff': {\n",
        "        'bonus': 10\n",
        "    },\n",
        "    'manager': {\n",
        "        'bonus': 15\n",
        "    },\n",
        "    'director': {\n",
        "        'bonus': 20\n",
        "    }\n",
        "}\n",
        "\n",
        "employee_data = [\n",
        "    {\n",
        "        'name': 'Rudi',\n",
        "        'level': 'staff',\n",
        "        'salary': 7500000\n",
        "    },\n",
        "    {\n",
        "        'name': 'Rita',\n",
        "        'level': 'intern',\n",
        "        'salary': 1000000\n",
        "    },\n",
        "    {\n",
        "        'name': 'Asep',\n",
        "        'level': 'manager',\n",
        "        'salary': 12000000\n",
        "    },\n",
        "    {\n",
        "        'name': 'Ricky',\n",
        "        'level': 'manager',\n",
        "        'salary': 13500000\n",
        "    },\n",
        "    {\n",
        "        'name': 'Lisa',\n",
        "        'level': 'staff',\n",
        "        'salary': 8500000\n",
        "    },\n",
        "    {\n",
        "        'name': 'Imam',\n",
        "        'level': 'intern',\n",
        "        'salary': 1050000\n",
        "    },\n",
        "    {\n",
        "        'name': 'Haryo',\n",
        "        'level': 'director',\n",
        "        'salary': 35000000\n",
        "    }\n",
        "]\n"
      ]
    },
    {
      "cell_type": "code",
      "execution_count": 23,
      "id": "c1b4d964-f72b-40ff-b8f5-fb1ecc199233",
      "metadata": {
        "id": "c1b4d964-f72b-40ff-b8f5-fb1ecc199233"
      },
      "outputs": [],
      "source": [
        "employee_bonus = {}\n",
        "\n",
        "for employee in employee_data:\n",
        "    level_employe = employee['level']\n",
        "    salary = employee['salary']\n",
        "\n",
        "    bonus_persen = level[level_employe]['bonus']\n",
        "    bonus = salary * bonus_persen / 100\n",
        "\n",
        "    employee_bonus[employee['name']] = bonus\n"
      ]
    },
    {
      "cell_type": "code",
      "execution_count": 24,
      "id": "eec9552b-7be6-47e6-ad24-d27e9d3e9f59",
      "metadata": {
        "colab": {
          "base_uri": "https://localhost:8080/"
        },
        "id": "eec9552b-7be6-47e6-ad24-d27e9d3e9f59",
        "outputId": "013e5843-4a9e-44ee-bb5a-8b229abc4c6d"
      },
      "outputs": [
        {
          "output_type": "stream",
          "name": "stdout",
          "text": [
            "[{'name': 'Rudi', 'level': 'staff', 'salary': 7500000, 'calculated_bonus': 750000.0}, {'name': 'Rita', 'level': 'intern', 'salary': 1000000, 'calculated_bonus': 50000.0}, {'name': 'Asep', 'level': 'manager', 'salary': 12000000, 'calculated_bonus': 1800000.0}, {'name': 'Ricky', 'level': 'manager', 'salary': 13500000, 'calculated_bonus': 2025000.0}, {'name': 'Lisa', 'level': 'staff', 'salary': 8500000, 'calculated_bonus': 850000.0}, {'name': 'Imam', 'level': 'intern', 'salary': 1050000, 'calculated_bonus': 52500.0}, {'name': 'Haryo', 'level': 'director', 'salary': 35000000, 'calculated_bonus': 7000000.0}]\n"
          ]
        }
      ],
      "source": [
        "print(employee_data)"
      ]
    },
    {
      "cell_type": "code",
      "execution_count": 26,
      "id": "87c71d25-5d8b-4146-90c6-f87962c82401",
      "metadata": {
        "colab": {
          "base_uri": "https://localhost:8080/"
        },
        "id": "87c71d25-5d8b-4146-90c6-f87962c82401",
        "outputId": "9d5981f4-9066-4125-f466-2be5ce5a3644"
      },
      "outputs": [
        {
          "output_type": "stream",
          "name": "stdout",
          "text": [
            "Rudi: Rp 750000\n",
            "Rita: Rp 50000\n",
            "Asep: Rp 1800000\n",
            "Ricky: Rp 2025000\n",
            "Lisa: Rp 850000\n",
            "Imam: Rp 52500\n",
            "Haryo: Rp 7000000\n"
          ]
        }
      ],
      "source": [
        "for name, bonus in employee_bonus.items():\n",
        "    print(f\"{name}: Rp {int(bonus)}\")"
      ]
    },
    {
      "cell_type": "code",
      "execution_count": null,
      "id": "3a480eca-3001-4709-b538-8225966bdbb6",
      "metadata": {
        "id": "3a480eca-3001-4709-b538-8225966bdbb6"
      },
      "outputs": [],
      "source": []
    },
    {
      "cell_type": "code",
      "source": [],
      "metadata": {
        "id": "UARGxjjViTzB"
      },
      "id": "UARGxjjViTzB",
      "execution_count": null,
      "outputs": []
    },
    {
      "cell_type": "code",
      "execution_count": null,
      "id": "8bb3ec66-7e6f-49a1-bb43-f847f002df89",
      "metadata": {
        "id": "8bb3ec66-7e6f-49a1-bb43-f847f002df89"
      },
      "outputs": [],
      "source": []
    },
    {
      "cell_type": "code",
      "execution_count": null,
      "id": "02871d99-cb7d-4476-9989-cb811c7dca90",
      "metadata": {
        "id": "02871d99-cb7d-4476-9989-cb811c7dca90"
      },
      "outputs": [],
      "source": []
    },
    {
      "cell_type": "code",
      "execution_count": null,
      "id": "a96d1e53-b3ca-42aa-90e8-4a496ecd9427",
      "metadata": {
        "id": "a96d1e53-b3ca-42aa-90e8-4a496ecd9427"
      },
      "outputs": [],
      "source": []
    }
  ],
  "metadata": {
    "kernelspec": {
      "display_name": "Python 3 (ipykernel)",
      "language": "python",
      "name": "python3"
    },
    "language_info": {
      "codemirror_mode": {
        "name": "ipython",
        "version": 3
      },
      "file_extension": ".py",
      "mimetype": "text/x-python",
      "name": "python",
      "nbconvert_exporter": "python",
      "pygments_lexer": "ipython3",
      "version": "3.9.13"
    },
    "colab": {
      "provenance": [],
      "include_colab_link": true
    }
  },
  "nbformat": 4,
  "nbformat_minor": 5
}